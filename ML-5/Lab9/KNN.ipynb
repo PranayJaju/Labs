{
 "cells": [
  {
   "cell_type": "code",
   "execution_count": 134,
   "id": "19e36688",
   "metadata": {},
   "outputs": [],
   "source": [
    "import numpy as np\n",
    "import pandas as pd\n",
    "import matplotlib.pyplot as plt"
   ]
  },
  {
   "cell_type": "code",
   "execution_count": 135,
   "id": "85853d2d",
   "metadata": {},
   "outputs": [
    {
     "data": {
      "text/html": [
       "<div>\n",
       "<style scoped>\n",
       "    .dataframe tbody tr th:only-of-type {\n",
       "        vertical-align: middle;\n",
       "    }\n",
       "\n",
       "    .dataframe tbody tr th {\n",
       "        vertical-align: top;\n",
       "    }\n",
       "\n",
       "    .dataframe thead th {\n",
       "        text-align: right;\n",
       "    }\n",
       "</style>\n",
       "<table border=\"1\" class=\"dataframe\">\n",
       "  <thead>\n",
       "    <tr style=\"text-align: right;\">\n",
       "      <th></th>\n",
       "      <th>X1</th>\n",
       "      <th>X2</th>\n",
       "      <th>Y</th>\n",
       "    </tr>\n",
       "  </thead>\n",
       "  <tbody>\n",
       "    <tr>\n",
       "      <th>0</th>\n",
       "      <td>7</td>\n",
       "      <td>7</td>\n",
       "      <td>Bad</td>\n",
       "    </tr>\n",
       "    <tr>\n",
       "      <th>1</th>\n",
       "      <td>7</td>\n",
       "      <td>4</td>\n",
       "      <td>Bad</td>\n",
       "    </tr>\n",
       "    <tr>\n",
       "      <th>2</th>\n",
       "      <td>3</td>\n",
       "      <td>4</td>\n",
       "      <td>Good</td>\n",
       "    </tr>\n",
       "    <tr>\n",
       "      <th>3</th>\n",
       "      <td>1</td>\n",
       "      <td>4</td>\n",
       "      <td>Good</td>\n",
       "    </tr>\n",
       "    <tr>\n",
       "      <th>4</th>\n",
       "      <td>4</td>\n",
       "      <td>5</td>\n",
       "      <td>Bad</td>\n",
       "    </tr>\n",
       "    <tr>\n",
       "      <th>5</th>\n",
       "      <td>3</td>\n",
       "      <td>5</td>\n",
       "      <td>Good</td>\n",
       "    </tr>\n",
       "    <tr>\n",
       "      <th>6</th>\n",
       "      <td>4</td>\n",
       "      <td>6</td>\n",
       "      <td>Bad</td>\n",
       "    </tr>\n",
       "    <tr>\n",
       "      <th>7</th>\n",
       "      <td>8</td>\n",
       "      <td>7</td>\n",
       "      <td>Bad</td>\n",
       "    </tr>\n",
       "    <tr>\n",
       "      <th>8</th>\n",
       "      <td>7</td>\n",
       "      <td>9</td>\n",
       "      <td>Good</td>\n",
       "    </tr>\n",
       "    <tr>\n",
       "      <th>9</th>\n",
       "      <td>8</td>\n",
       "      <td>8</td>\n",
       "      <td>Bad</td>\n",
       "    </tr>\n",
       "  </tbody>\n",
       "</table>\n",
       "</div>"
      ],
      "text/plain": [
       "   X1  X2     Y\n",
       "0   7   7   Bad\n",
       "1   7   4   Bad\n",
       "2   3   4  Good\n",
       "3   1   4  Good\n",
       "4   4   5   Bad\n",
       "5   3   5  Good\n",
       "6   4   6   Bad\n",
       "7   8   7   Bad\n",
       "8   7   9  Good\n",
       "9   8   8   Bad"
      ]
     },
     "execution_count": 135,
     "metadata": {},
     "output_type": "execute_result"
    }
   ],
   "source": [
    "data = pd.read_csv('data.csv')\n",
    "data"
   ]
  },
  {
   "cell_type": "code",
   "execution_count": 136,
   "id": "dc9e771e",
   "metadata": {},
   "outputs": [
    {
     "data": {
      "text/plain": [
       "<matplotlib.collections.PathCollection at 0x7fd823b30b20>"
      ]
     },
     "execution_count": 136,
     "metadata": {},
     "output_type": "execute_result"
    },
    {
     "data": {
      "image/png": "[encoded data removed]",
      "text/plain": [
       "<Figure size 640x480 with 1 Axes>"
      ]
     },
     "metadata": {},
     "output_type": "display_data"
    }
   ],
   "source": [
    "good = data[data['Y'] == 'Good']\n",
    "bad = data[data['Y'] == 'Bad']\n",
    "\n",
    "plt.scatter(good['X1'], good['X2'], c='g', marker='+')\n",
    "plt.scatter(bad['X1'], bad['X2'], c='r', marker='x')"
   ]
  },
  {
   "cell_type": "code",
   "execution_count": 137,
   "id": "68e14865",
   "metadata": {},
   "outputs": [],
   "source": [
    "def Eucledian(x, y):\n",
    "    return ((x[0]-y[0])**2 + (x[1]-y[1])**2)**0.5\n",
    "\n",
    "def Manhattan(x, y):\n",
    "    return abs(x[0]-y[0]) + abs(x[1]-y[1])\n",
    "\n",
    "def Minkowski(x, y, p=3):\n",
    "    return ((abs(x[0]-y[0]))**p + (abs((x[1]-y[1]))**p))**(1/p)\n",
    "\n",
    "def most_common(lst):\n",
    "    g = sum(row.count('Good') for row in lst)\n",
    "    b = sum(row.count('Bad') for row in lst)\n",
    "    \n",
    "    return 'Good' if g > b else lst[0][1] if g == b else 'Bad'"
   ]
  },
  {
   "cell_type": "code",
   "execution_count": 138,
   "id": "2d5ccb20",
   "metadata": {},
   "outputs": [],
   "source": [
    "class KNearestNeighbours():\n",
    "    def __init__(self, k=5, dist_measure=Eucledian):\n",
    "        self.k = k\n",
    "        self.dist_measure = dist_measure\n",
    "        \n",
    "    def fit(self, X, Y):\n",
    "        self.X = X\n",
    "        self.Y = Y\n",
    "        \n",
    "    def predict(self, test):\n",
    "        y_predict = []\n",
    "        for x, y in zip(X,Y):\n",
    "            y_predict.append([self.dist_measure(test, x), y])\n",
    "        \n",
    "        y_predict.sort()\n",
    "            \n",
    "        return most_common(y_predict[:self.k])"
   ]
  },
  {
   "cell_type": "code",
   "execution_count": 139,
   "id": "0410b516",
   "metadata": {},
   "outputs": [
    {
     "name": "stdout",
     "output_type": "stream",
     "text": [
      "Bad\n"
     ]
    }
   ],
   "source": [
    "X = list(zip(data['X1'], data['X2']))\n",
    "Y = list(data['Y'])\n",
    "\n",
    "knn = KNearestNeighbours(k=3, dist_measure=Minkowski)\n",
    "knn.fit(X,Y)\n",
    "prediction = knn.predict((3,7))\n",
    "\n",
    "print(prediction)"
   ]
  }
 ],
 "metadata": {
  "kernelspec": {
   "display_name": "Python 3 (ipykernel)",
   "language": "python",
   "name": "python3"
  },
  "language_info": {
   "codemirror_mode": {
    "name": "ipython",
    "version": 3
   },
   "file_extension": ".py",
   "mimetype": "text/x-python",
   "name": "python",
   "nbconvert_exporter": "python",
   "pygments_lexer": "ipython3",
   "version": "3.9.13"
  }
 },
 "nbformat": 4,
 "nbformat_minor": 5
}
