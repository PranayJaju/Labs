{
 "cells": [
  {
   "cell_type": "code",
   "execution_count": 43,
   "id": "ef40fd07",
   "metadata": {},
   "outputs": [],
   "source": [
    "import numpy as np"
   ]
  },
  {
   "cell_type": "markdown",
   "id": "a6d4f0e3",
   "metadata": {},
   "source": [
    "### Q1"
   ]
  },
  {
   "cell_type": "code",
   "execution_count": 44,
   "id": "a275a096",
   "metadata": {},
   "outputs": [
    {
     "name": "stdout",
     "output_type": "stream",
     "text": [
      "1D array: [0 1 2 3 4 5 6 7 8]\n"
     ]
    }
   ],
   "source": [
    "arr_1d = np.arange(9)\n",
    "print(f'1D array: {arr_1d}')"
   ]
  },
  {
   "cell_type": "code",
   "execution_count": 45,
   "id": "9d58a143",
   "metadata": {},
   "outputs": [
    {
     "name": "stdout",
     "output_type": "stream",
     "text": [
      "2D array:\n",
      " [[0 1 2]\n",
      " [3 4 5]\n",
      " [6 7 8]]\n"
     ]
    }
   ],
   "source": [
    "arr_2d = np.reshape(arr_1d, (3,3))\n",
    "print(f'2D array:\\n {arr_2d}')"
   ]
  },
  {
   "cell_type": "markdown",
   "id": "d1687829",
   "metadata": {},
   "source": [
    "## Q2"
   ]
  },
  {
   "cell_type": "code",
   "execution_count": 46,
   "id": "a9c58cad",
   "metadata": {},
   "outputs": [
    {
     "name": "stdout",
     "output_type": "stream",
     "text": [
      "[0 1 2 3 4 5 6 7 8 9]\n"
     ]
    }
   ],
   "source": [
    "arr = np.arange(10)\n",
    "print(arr)"
   ]
  },
  {
   "cell_type": "code",
   "execution_count": 47,
   "id": "e03596b2",
   "metadata": {},
   "outputs": [
    {
     "name": "stdout",
     "output_type": "stream",
     "text": [
      "Array with odd numbers replaced by -1 : [ 0 -1  2 -1  4 -1  6 -1  8 -1]\n"
     ]
    }
   ],
   "source": [
    "arr[arr%2 == 1] = -1\n",
    "print(f'Array with odd numbers replaced by -1 : {arr}')"
   ]
  },
  {
   "cell_type": "markdown",
   "id": "5fa073c9",
   "metadata": {},
   "source": [
    "## Q3"
   ]
  },
  {
   "cell_type": "code",
   "execution_count": 48,
   "id": "b7d064a0",
   "metadata": {},
   "outputs": [
    {
     "name": "stdout",
     "output_type": "stream",
     "text": [
      "x: [21 64 86 22 74 55 81 79 90 89]\n",
      "y:[21  7  3 45 10 29 55  4 37 18]\n"
     ]
    }
   ],
   "source": [
    "x = np.array([21, 64, 86, 22, 74, 55, 81, 79, 90, 89]) \n",
    "y = np.array([21, 7, 3, 45, 10, 29, 55, 4, 37, 18])\n",
    "\n",
    "print(f'x: {x}\\ny:{y}')"
   ]
  },
  {
   "cell_type": "code",
   "execution_count": 49,
   "id": "52368072",
   "metadata": {},
   "outputs": [
    {
     "name": "stdout",
     "output_type": "stream",
     "text": [
      "Indices where x>y: [1 2 4 5 6 7 8 9]\n",
      "Indices where x=y: [0]\n"
     ]
    }
   ],
   "source": [
    "xGy = np.nonzero(x>y)[0]\n",
    "print(f'Indices where x>y: {xGy}')\n",
    "xEy = np.nonzero(x==y)[0]\n",
    "print(f'Indices where x=y: {xEy}')"
   ]
  },
  {
   "cell_type": "markdown",
   "id": "ba71a17c",
   "metadata": {},
   "source": [
    "## Q4"
   ]
  },
  {
   "cell_type": "code",
   "execution_count": 50,
   "id": "1d8c3ca8",
   "metadata": {},
   "outputs": [
    {
     "name": "stdout",
     "output_type": "stream",
     "text": [
      "a:\n",
      "[[ 0  1  2  3  4  5  6  7  8  9 10 11 12 13 14 15 16 17 18 19]\n",
      " [20 21 22 23 24 25 26 27 28 29 30 31 32 33 34 35 36 37 38 39]\n",
      " [40 41 42 43 44 45 46 47 48 49 50 51 52 53 54 55 56 57 58 59]\n",
      " [60 61 62 63 64 65 66 67 68 69 70 71 72 73 74 75 76 77 78 79]\n",
      " [80 81 82 83 84 85 86 87 88 89 90 91 92 93 94 95 96 97 98 99]]\n",
      "First 4 columns:\n",
      "[[ 0  1  2  3]\n",
      " [20 21 22 23]\n",
      " [40 41 42 43]\n",
      " [60 61 62 63]\n",
      " [80 81 82 83]]\n"
     ]
    }
   ],
   "source": [
    "a = np.arange(100).reshape((5,-1))\n",
    "print(f'a:\\n{a}')\n",
    "print(f'First 4 columns:\\n{a[:,:4]}')"
   ]
  },
  {
   "cell_type": "markdown",
   "id": "9a01a3dd",
   "metadata": {},
   "source": [
    "## Add 1"
   ]
  },
  {
   "cell_type": "code",
   "execution_count": 51,
   "id": "8edbb0e8",
   "metadata": {},
   "outputs": [
    {
     "name": "stdout",
     "output_type": "stream",
     "text": [
      "Random array between 30 and 40: [33 34 36 30 35 33 34 33 32 39]\n"
     ]
    }
   ],
   "source": [
    "random_arr = np.random.randint(30, 41, size=10)\n",
    "print(f'Random array between 30 and 40: {random_arr}')"
   ]
  },
  {
   "cell_type": "markdown",
   "id": "11730b36",
   "metadata": {},
   "source": [
    "## Add 2"
   ]
  },
  {
   "cell_type": "code",
   "execution_count": 52,
   "id": "f6fedd61",
   "metadata": {},
   "outputs": [
    {
     "name": "stdout",
     "output_type": "stream",
     "text": [
      "A:\n",
      "[[ 1  2  3]\n",
      " [ 4  5  6]\n",
      " [ 7  8 10]]\n",
      "B:\n",
      "[[ 7  8 10]\n",
      " [ 4  5  6]\n",
      " [ 1  2  3]]\n"
     ]
    }
   ],
   "source": [
    "A = np.array((1, 2, 3, 4, 5, 6, 7, 8, 10)).reshape(3,3)\n",
    "B = np.array((7, 8, 10, 4, 5, 6, 1, 2, 3)).reshape(3,3)\n",
    "print(f'A:\\n{A}')\n",
    "print(f'B:\\n{B}')"
   ]
  },
  {
   "cell_type": "code",
   "execution_count": 53,
   "id": "5699d44f",
   "metadata": {},
   "outputs": [
    {
     "name": "stdout",
     "output_type": "stream",
     "text": [
      "C:\n",
      "[[ 8 10 13]\n",
      " [ 8 10 12]\n",
      " [ 8 10 13]]\n",
      "E:\n",
      "[[-6 -6 -7]\n",
      " [ 0  0  0]\n",
      " [ 6  6  7]]\n"
     ]
    }
   ],
   "source": [
    "C = A+B\n",
    "E = A-B\n",
    "print(f'C:\\n{C}')\n",
    "print(f'E:\\n{E}')"
   ]
  },
  {
   "cell_type": "code",
   "execution_count": 54,
   "id": "1ea2c11a",
   "metadata": {},
   "outputs": [
    {
     "name": "stdout",
     "output_type": "stream",
     "text": [
      "Sum of elements of A: 46\n",
      "Sum of column of B: [12 15 19]\n",
      "Sum of rows of C: [31 30 31]\n"
     ]
    }
   ],
   "source": [
    "print(f'Sum of elements of A: {np.sum(A)}')\n",
    "print(f'Sum of column of B: {np.sum(B, axis=0)}')\n",
    "print(f'Sum of rows of C: {np.sum(C, axis=1)}')"
   ]
  },
  {
   "cell_type": "code",
   "execution_count": 55,
   "id": "fc1a340e",
   "metadata": {},
   "outputs": [
    {
     "name": "stdout",
     "output_type": "stream",
     "text": [
      "D:\n",
      "[[ 7 16 30]\n",
      " [16 25 36]\n",
      " [ 7 16 30]]\n"
     ]
    }
   ],
   "source": [
    "D = A*B\n",
    "print(f'D:\\n{D}')"
   ]
  },
  {
   "cell_type": "code",
   "execution_count": 56,
   "id": "4826104f",
   "metadata": {},
   "outputs": [
    {
     "name": "stdout",
     "output_type": "stream",
     "text": [
      "E:\n",
      "[[ 8 10 12]\n",
      " [ 8 10 13]\n",
      " [ 8 10 13]]\n"
     ]
    }
   ],
   "source": [
    "E = np.sort(C, axis=0)\n",
    "print(f'E:\\n{E}')"
   ]
  },
  {
   "cell_type": "code",
   "execution_count": 57,
   "id": "1be7963a",
   "metadata": {},
   "outputs": [
    {
     "name": "stdout",
     "output_type": "stream",
     "text": [
      "Transposed E:\n",
      "[[ 8  8  8]\n",
      " [10 10 10]\n",
      " [12 13 13]]\n"
     ]
    }
   ],
   "source": [
    "E = np.transpose(E)\n",
    "print(f'Transposed E:\\n{E}')"
   ]
  }
 ],
 "metadata": {
  "kernelspec": {
   "display_name": "Python 3 (ipykernel)",
   "language": "python",
   "name": "python3"
  },
  "language_info": {
   "codemirror_mode": {
    "name": "ipython",
    "version": 3
   },
   "file_extension": ".py",
   "mimetype": "text/x-python",
   "name": "python",
   "nbconvert_exporter": "python",
   "pygments_lexer": "ipython3",
   "version": "3.9.13"
  }
 },
 "nbformat": 4,
 "nbformat_minor": 5
}
