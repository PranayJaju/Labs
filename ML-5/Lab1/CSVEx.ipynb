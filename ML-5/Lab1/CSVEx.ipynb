{
 "cells": [
  {
   "cell_type": "code",
   "execution_count": 1,
   "id": "8fed2db0",
   "metadata": {},
   "outputs": [
    {
     "name": "stdout",
     "output_type": "stream",
     "text": [
      "['Student', ' Age', ' RollNo', ' CGPA']\n",
      "['Pranay', ' 20', ' 48', ' 8.71']\n",
      "['Eshaan', ' 19', ' 56', ' 9.1']\n",
      "['Liam', ' 20', ' 57', ' 9.5']\n",
      "['Simarpreet', ' 20', ' 45', ' 8']\n",
      "['Vishal', ' 20', ' 49', ' 7.67']\n",
      "['Rishab', ' 20', ' 46', ' 7.5']\n",
      "['Mihir', ' 20', ' 60', ' 8.34']\n"
     ]
    }
   ],
   "source": [
    "import csv\n",
    "with open('Student.csv') as file:\n",
    "    data = csv.reader(file)\n",
    "    for row in data:\n",
    "        print(row)"
   ]
  },
  {
   "cell_type": "code",
   "execution_count": 2,
   "id": "7c4b4c09",
   "metadata": {},
   "outputs": [
    {
     "name": "stdout",
     "output_type": "stream",
     "text": [
      "['Student', ' Age', ' RollNo', ' CGPA']\n",
      "['Pranay', ' 20', ' 48', ' 8.71']\n",
      "['Eshaan', ' 19', ' 56', ' 9.1']\n",
      "['Liam', ' 20', ' 57', ' 9.5']\n",
      "['Simarpreet', ' 20', ' 45', ' 8']\n",
      "['Vishal', ' 20', ' 49', ' 7.67']\n",
      "['Rishab', ' 20', ' 46', ' 7.5']\n",
      "['Mihir', ' 20', ' 60', ' 8.34']\n"
     ]
    }
   ],
   "source": [
    "reader = csv.reader(open('Student.csv'))\n",
    "for row in reader:\n",
    "    print(row)"
   ]
  },
  {
   "cell_type": "code",
   "execution_count": 3,
   "id": "3154f458",
   "metadata": {},
   "outputs": [
    {
     "name": "stdout",
     "output_type": "stream",
     "text": [
      "{'Student': 'Pranay', ' Age': ' 20', ' RollNo': ' 48', ' CGPA': ' 8.71'}\n",
      "{'Student': 'Eshaan', ' Age': ' 19', ' RollNo': ' 56', ' CGPA': ' 9.1'}\n",
      "{'Student': 'Liam', ' Age': ' 20', ' RollNo': ' 57', ' CGPA': ' 9.5'}\n",
      "{'Student': 'Simarpreet', ' Age': ' 20', ' RollNo': ' 45', ' CGPA': ' 8'}\n",
      "{'Student': 'Vishal', ' Age': ' 20', ' RollNo': ' 49', ' CGPA': ' 7.67'}\n",
      "{'Student': 'Rishab', ' Age': ' 20', ' RollNo': ' 46', ' CGPA': ' 7.5'}\n",
      "{'Student': 'Mihir', ' Age': ' 20', ' RollNo': ' 60', ' CGPA': ' 8.34'}\n"
     ]
    }
   ],
   "source": [
    "reader = csv.DictReader(open('Student.csv'))\n",
    "for row in reader:\n",
    "    print(row)"
   ]
  },
  {
   "cell_type": "code",
   "execution_count": 17,
   "id": "23492ff1",
   "metadata": {},
   "outputs": [],
   "source": [
    "with open('Student.csv', 'w+') as file:\n",
    "    writer = csv.writer(file)\n",
    "    writer.writerows([['Student', ' Age', ' RollNo', ' CGPA'],\n",
    "    ['Pranay', ' 20', ' 48', ' 8.71'],\n",
    "    ['Eshaan', ' 19', ' 56', ' 9.1'],\n",
    "    ['Liam', ' 20', ' 57', ' 9.5'],\n",
    "    ['Simarpreet', ' 20', ' 45', ' 8'],\n",
    "    ['Vishal', ' 20', ' 49', ' 7.67'],\n",
    "    ['Rishab', ' 20', ' 46', ' 7.5'],\n",
    "    ['Mihir', ' 20', ' 60', ' 8.34']])"
   ]
  },
  {
   "cell_type": "code",
   "execution_count": 26,
   "id": "7f3b32aa",
   "metadata": {},
   "outputs": [
    {
     "name": "stdout",
     "output_type": "stream",
     "text": [
      "['Student', ' Age', ' RollNo', ' CGPA']\n",
      "['Pranay', ' 20', ' 48', ' 8.71']\n",
      "['Eshaan', ' 19', ' 56', ' 9.1']\n",
      "['Liam', ' 20', ' 57', ' 9.5']\n",
      "['Simarpreet', ' 20', ' 45', ' 8']\n",
      "['Vishal', ' 20', ' 49', ' 7.67']\n",
      "['Rishab', ' 20', ' 46', ' 7.5']\n",
      "['Mihir', ' 20', ' 60', ' 8.34']\n",
      "['Rashi', '20', '63', '9.92']\n",
      "['Rashi', '20', '63', '9.92']\n",
      "['Rashi', '20', '63', '9.92']\n",
      "['Rashi', '20', '63', '9.92']\n",
      "['Rashi', '20', '63', '9.92']\n",
      "['Rashi', '20', '63', '9.92']\n"
     ]
    }
   ],
   "source": [
    "with open('Student.csv', 'r+') as file:\n",
    "    #writer = csv.writer(file)\n",
    "    #writer.writerow(['Rashi', 20, 63, 9.92])\n",
    "    \n",
    "    data = csv.reader(file)\n",
    "    for row in data:\n",
    "        print(row)"
   ]
  },
  {
   "cell_type": "code",
   "execution_count": null,
   "id": "d1e8a386",
   "metadata": {},
   "outputs": [],
   "source": []
  }
 ],
 "metadata": {
  "kernelspec": {
   "display_name": "Python 3 (ipykernel)",
   "language": "python",
   "name": "python3"
  },
  "language_info": {
   "codemirror_mode": {
    "name": "ipython",
    "version": 3
   },
   "file_extension": ".py",
   "mimetype": "text/x-python",
   "name": "python",
   "nbconvert_exporter": "python",
   "pygments_lexer": "ipython3",
   "version": "3.9.13"
  }
 },
 "nbformat": 4,
 "nbformat_minor": 5
}
