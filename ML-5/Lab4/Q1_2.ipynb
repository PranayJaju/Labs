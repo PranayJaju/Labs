{
 "cells": [
  {
   "cell_type": "code",
   "execution_count": 153,
   "id": "b69fb8c5",
   "metadata": {},
   "outputs": [],
   "source": [
    "import numpy as np\n",
    "import pandas as pd\n",
    "import matplotlib.pyplot as plt\n",
    "import seaborn as sns\n",
    "\n",
    "from sklearn.model_selection import train_test_split\n",
    "from sklearn.linear_model import LinearRegression\n",
    "from sklearn.metrics import mean_squared_error"
   ]
  },
  {
   "cell_type": "markdown",
   "id": "513b70e8",
   "metadata": {},
   "source": [
    "# Q1"
   ]
  },
  {
   "cell_type": "code",
   "execution_count": 154,
   "id": "ec595ec6",
   "metadata": {},
   "outputs": [
    {
     "data": {
      "text/html": [
       "<div>\n",
       "<style scoped>\n",
       "    .dataframe tbody tr th:only-of-type {\n",
       "        vertical-align: middle;\n",
       "    }\n",
       "\n",
       "    .dataframe tbody tr th {\n",
       "        vertical-align: top;\n",
       "    }\n",
       "\n",
       "    .dataframe thead th {\n",
       "        text-align: right;\n",
       "    }\n",
       "</style>\n",
       "<table border=\"1\" class=\"dataframe\">\n",
       "  <thead>\n",
       "    <tr style=\"text-align: right;\">\n",
       "      <th></th>\n",
       "      <th>Year</th>\n",
       "      <th>Gold</th>\n",
       "      <th>Silver</th>\n",
       "    </tr>\n",
       "  </thead>\n",
       "  <tbody>\n",
       "    <tr>\n",
       "      <th>0</th>\n",
       "      <td>1965</td>\n",
       "      <td>72</td>\n",
       "      <td>NaN</td>\n",
       "    </tr>\n",
       "    <tr>\n",
       "      <th>1</th>\n",
       "      <td>1966</td>\n",
       "      <td>84</td>\n",
       "      <td>NaN</td>\n",
       "    </tr>\n",
       "    <tr>\n",
       "      <th>2</th>\n",
       "      <td>1967</td>\n",
       "      <td>103</td>\n",
       "      <td>NaN</td>\n",
       "    </tr>\n",
       "    <tr>\n",
       "      <th>3</th>\n",
       "      <td>1968</td>\n",
       "      <td>162</td>\n",
       "      <td>NaN</td>\n",
       "    </tr>\n",
       "    <tr>\n",
       "      <th>4</th>\n",
       "      <td>1969</td>\n",
       "      <td>176</td>\n",
       "      <td>NaN</td>\n",
       "    </tr>\n",
       "  </tbody>\n",
       "</table>\n",
       "</div>"
      ],
      "text/plain": [
       "   Year  Gold  Silver\n",
       "0  1965    72     NaN\n",
       "1  1966    84     NaN\n",
       "2  1967   103     NaN\n",
       "3  1968   162     NaN\n",
       "4  1969   176     NaN"
      ]
     },
     "execution_count": 154,
     "metadata": {},
     "output_type": "execute_result"
    }
   ],
   "source": [
    "df = pd.read_csv('gold_silver_price.csv')\n",
    "df.head()"
   ]
  },
  {
   "cell_type": "markdown",
   "id": "a7b7a272",
   "metadata": {},
   "source": [
    "## Manual"
   ]
  },
  {
   "cell_type": "code",
   "execution_count": 155,
   "id": "502cfcbb",
   "metadata": {},
   "outputs": [],
   "source": [
    "df['X - X_mean'] = df['Year'] - df['Year'].mean()\n",
    "df['y - y_mean'] = df['Gold'] - df['Gold'].mean()\n",
    "\n",
    "sum_xx = sum(df['X - X_mean']**2)\n",
    "sum_xy = sum(df['X - X_mean']*df['y - y_mean'])"
   ]
  },
  {
   "cell_type": "code",
   "execution_count": 156,
   "id": "d181a48c",
   "metadata": {},
   "outputs": [],
   "source": [
    "B1 = sum_xy/sum_xx\n",
    "\n",
    "B0 = df['Gold'].mean() - B1*df['Year'].mean()"
   ]
  },
  {
   "cell_type": "code",
   "execution_count": 157,
   "id": "50f294b0",
   "metadata": {},
   "outputs": [],
   "source": [
    "df['Pred_Price_Gold'] = B0 + B1*df['Year']"
   ]
  },
  {
   "cell_type": "code",
   "execution_count": 158,
   "id": "ad95b865",
   "metadata": {},
   "outputs": [
    {
     "name": "stdout",
     "output_type": "stream",
     "text": [
      "B0: -1336226.7042665107\n",
      "B1: 675.3436586791349\n",
      "MSE: 62644360.72375501\n",
      "RMSE: 7914.819058181622\n"
     ]
    }
   ],
   "source": [
    "mse = sum((df['Gold']-df['Pred_Price_Gold'])**2)/len(df['Year'])\n",
    "rmse = mse**0.5\n",
    "\n",
    "print(f'B0: {B0}')\n",
    "print(f'B1: {B1}')\n",
    "print(f'MSE: {mse}')\n",
    "print(f'RMSE: {rmse}')"
   ]
  },
  {
   "cell_type": "markdown",
   "id": "c7c7d590",
   "metadata": {},
   "source": [
    "## Predicting"
   ]
  },
  {
   "cell_type": "code",
   "execution_count": 159,
   "id": "e739ac37",
   "metadata": {},
   "outputs": [
    {
     "name": "stdout",
     "output_type": "stream",
     "text": [
      "Predicted gold value in 2025 for 1 gram: 3134.4204558737574\n"
     ]
    }
   ],
   "source": [
    "pred_2025 = B0 + B1*2025\n",
    "print(f'Predicted gold value in 2025 for 1 gram: {pred_2025/10}')"
   ]
  },
  {
   "cell_type": "markdown",
   "id": "6c4c43ac",
   "metadata": {},
   "source": [
    "## Using SKLearn"
   ]
  },
  {
   "cell_type": "code",
   "execution_count": 160,
   "id": "eac74c29",
   "metadata": {},
   "outputs": [
    {
     "name": "stdout",
     "output_type": "stream",
     "text": [
      "B0_skl: -1336226.704266511\n",
      "B1_skl: 675.343658679135\n",
      "MSE_skl: 62644360.72375505\n",
      "RMSE_skl: 7914.819058181623\n"
     ]
    }
   ],
   "source": [
    "X = df['Year'].to_numpy()\n",
    "y = df['Gold'].to_numpy()\n",
    "\n",
    "lr = LinearRegression()\n",
    "lr.fit(X.reshape(-1,1), y)\n",
    "predictions = lr.predict(X.reshape(-1,1))\n",
    "\n",
    "mse_skl = mean_squared_error(y, predictions)\n",
    "rmse_skl = mse_skl**0.5\n",
    "B0_skl = lr.intercept_\n",
    "B1_skl = lr.coef_[0]\n",
    "\n",
    "print(f'B0_skl: {B0_skl}')\n",
    "print(f'B1_skl: {B1_skl}')\n",
    "print(f'MSE_skl: {mse_skl}')\n",
    "print(f'RMSE_skl: {rmse_skl}')"
   ]
  },
  {
   "cell_type": "markdown",
   "id": "15a6aef3",
   "metadata": {},
   "source": [
    "# Q2"
   ]
  },
  {
   "cell_type": "code",
   "execution_count": 161,
   "id": "547a2771",
   "metadata": {},
   "outputs": [],
   "source": [
    "df.dropna(inplace=True)\n",
    "\n",
    "df['x1_2'] = df['Year']**2\n",
    "df['x2_2'] = df['Gold']**2\n",
    "df['x1y'] = df['Year']*df['Silver']\n",
    "df['x2y'] = df['Gold']*df['Silver']\n",
    "df['x1x2'] = df['Year']*df['Gold']\n",
    "\n",
    "sum_x1_2 = sum(df['x1_2']) - (sum(df['Year'])**2)/len(df['Year'])\n",
    "sum_x2_2 = sum(df['x2_2']) - (sum(df['Gold'])**2)/len(df['Year'])\n",
    "sum_x1y = sum(df['x1y']) - (sum(df['Year'])*sum(df['Silver']))/len(df['Year'])\n",
    "sum_x2y = sum(df['x2y']) - (sum(df['Gold'])*sum(df['Silver']))/len(df['Year'])\n",
    "sum_x1x2 = sum(df['x1x2']) - (sum(df['Year'])*sum(df['Gold']))/len(df['Year'])"
   ]
  },
  {
   "cell_type": "code",
   "execution_count": 162,
   "id": "3ab31dab",
   "metadata": {},
   "outputs": [],
   "source": [
    "denom = sum_x1_2*sum_x2_2 - sum_x1x2**2\n",
    "\n",
    "B1 = (sum_x2_2*sum_x1y - sum_x1x2*sum_x2y)/denom\n",
    "B2 = (sum_x1_2*sum_x2y - sum_x1x2*sum_x1y)/denom\n",
    "B0 = df['Silver'].mean() - B1*df['Year'].mean() - B2*df['Gold'].mean()"
   ]
  },
  {
   "cell_type": "code",
   "execution_count": 164,
   "id": "cce5fdb4",
   "metadata": {},
   "outputs": [
    {
     "name": "stdout",
     "output_type": "stream",
     "text": [
      "B0_skl: -406636.4260883493\n",
      "B1_skl: [205.61188432   1.12883488]\n",
      "MSE_skl: 27970705.328672245\n",
      "RMSE_skl: 5288.733811478154\n"
     ]
    }
   ],
   "source": [
    "X = df[['Year', 'Gold']]\n",
    "y = df['Silver'].to_numpy()\n",
    "\n",
    "lr = LinearRegression()\n",
    "lr.fit(X, y)\n",
    "predictions = lr.predict(X)\n",
    "\n",
    "mse_skl = mean_squared_error(y, predictions)\n",
    "rmse_skl = mse_skl**0.5\n",
    "B0_skl = lr.intercept_\n",
    "B1_B2 = lr.coef_\n",
    "\n",
    "print(f'B0_skl: {B0_skl}')\n",
    "print(f'B1_skl: {B1_B2}')\n",
    "print(f'MSE_skl: {mse_skl}')\n",
    "print(f'RMSE_skl: {rmse_skl}')"
   ]
  }
 ],
 "metadata": {
  "kernelspec": {
   "display_name": "Python 3 (ipykernel)",
   "language": "python",
   "name": "python3"
  },
  "language_info": {
   "codemirror_mode": {
    "name": "ipython",
    "version": 3
   },
   "file_extension": ".py",
   "mimetype": "text/x-python",
   "name": "python",
   "nbconvert_exporter": "python",
   "pygments_lexer": "ipython3",
   "version": "3.9.13"
  }
 },
 "nbformat": 4,
 "nbformat_minor": 5
}
