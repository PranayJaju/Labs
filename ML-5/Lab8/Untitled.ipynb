{
 "cells": [
  {
   "cell_type": "markdown",
   "id": "dbb75b06",
   "metadata": {},
   "source": [
    "# 1a"
   ]
  },
  {
   "cell_type": "code",
   "execution_count": 3,
   "id": "263e6e58",
   "metadata": {},
   "outputs": [
    {
     "name": "stdout",
     "output_type": "stream",
     "text": [
      "Prob of being hosteler given got an A:  0.69\n"
     ]
    }
   ],
   "source": [
    "pH = 0.6\n",
    "pDS = 0.4\n",
    "pHAy = 0.3\n",
    "pDSAy = 0.2\n",
    "\n",
    "pA = pH*pHAy + pDS*pDSAy\n",
    "pHA = pH*pHAy\n",
    "\n",
    "pHc = pHA/pA\n",
    "print(f'Prob of being hosteler given got an A: {pHc: .2f}')"
   ]
  },
  {
   "cell_type": "markdown",
   "id": "e3baa393",
   "metadata": {},
   "source": [
    "# 1b"
   ]
  },
  {
   "cell_type": "code",
   "execution_count": 6,
   "id": "dbd5196d",
   "metadata": {},
   "outputs": [
    {
     "name": "stdout",
     "output_type": "stream",
     "text": [
      "Prob of having disease given +ve test:  0.33\n"
     ]
    }
   ],
   "source": [
    "pDp = 0.01\n",
    "pNDp = 0.99\n",
    "pCI = 0.99\n",
    "pWI = 0.02\n",
    "\n",
    "pPT = pDp*pCI + pNDp*pWI\n",
    "pD = pDp*pCI\n",
    "\n",
    "pDT = pD/pPT\n",
    "print(f'Prob of having disease given +ve test: {pDT: .2f}')"
   ]
  },
  {
   "cell_type": "markdown",
   "id": "b34d83ef",
   "metadata": {},
   "source": [
    "# 2"
   ]
  },
  {
   "cell_type": "code",
   "execution_count": 11,
   "id": "6e5a477b",
   "metadata": {},
   "outputs": [
    {
     "name": "stdout",
     "output_type": "stream",
     "text": [
      "Play\n"
     ]
    }
   ],
   "source": [
    "df = pd.read_csv('nb.csv')\n",
    "\n",
    "total = len(df[df['Outlook'] == 'Sunny'])\n",
    "pY = len(df[(df['Outlook'] == 'Sunny') & (df['Play'] == 'Yes')])/total\n",
    "pN = len(df[(df['Outlook'] == 'Sunny') & (df['Play'] == 'No')])/total\n",
    "\n",
    "if pY > pN:\n",
    "    print('Play')\n",
    "else:\n",
    "    print('No play')"
   ]
  }
 ],
 "metadata": {
  "kernelspec": {
   "display_name": "Python 3 (ipykernel)",
   "language": "python",
   "name": "python3"
  },
  "language_info": {
   "codemirror_mode": {
    "name": "ipython",
    "version": 3
   },
   "file_extension": ".py",
   "mimetype": "text/x-python",
   "name": "python",
   "nbconvert_exporter": "python",
   "pygments_lexer": "ipython3",
   "version": "3.9.13"
  }
 },
 "nbformat": 4,
 "nbformat_minor": 5
}
