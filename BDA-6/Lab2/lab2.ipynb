{
 "cells": [
  {
   "cell_type": "code",
   "execution_count": 39,
   "metadata": {},
   "outputs": [],
   "source": [
    "from pyspark.sql import SparkSession\n",
    "from pyspark.sql.functions import concat_ws, when\n",
    "import pyspark.sql.functions as f"
   ]
  },
  {
   "cell_type": "code",
   "execution_count": 14,
   "metadata": {},
   "outputs": [],
   "source": [
    "spark = SparkSession.builder.appName('Lab2').getOrCreate()"
   ]
  },
  {
   "cell_type": "code",
   "execution_count": 15,
   "metadata": {},
   "outputs": [],
   "source": [
    "nobel = spark.read.csv('nobel.csv', header=True, inferSchema=True)"
   ]
  },
  {
   "cell_type": "code",
   "execution_count": 16,
   "metadata": {},
   "outputs": [
    {
     "name": "stdout",
     "output_type": "stream",
     "text": [
      "root\n",
      " |-- firstname: string (nullable = true)\n",
      " |-- surname: string (nullable = true)\n",
      " |-- born_country_code: string (nullable = true)\n",
      " |-- died_country_code: string (nullable = true)\n",
      " |-- gender: string (nullable = true)\n",
      " |-- year: integer (nullable = true)\n",
      " |-- category: string (nullable = true)\n",
      " |-- share: integer (nullable = true)\n",
      " |-- name_of_university: string (nullable = true)\n",
      " |-- city_of_university: string (nullable = true)\n",
      " |-- country_of_university: string (nullable = true)\n",
      " |-- born_month: string (nullable = true)\n",
      " |-- age: integer (nullable = true)\n",
      " |-- age_get_prize: integer (nullable = true)\n",
      "\n",
      "923 14\n"
     ]
    }
   ],
   "source": [
    "nobel.printSchema()\n",
    "print(nobel.count(), len(nobel.columns))"
   ]
  },
  {
   "cell_type": "markdown",
   "metadata": {},
   "source": [
    "## Cleaning the data"
   ]
  },
  {
   "cell_type": "code",
   "execution_count": 17,
   "metadata": {},
   "outputs": [],
   "source": [
    "#dropping unwanted columns\n",
    "cols = ('born_country_code', 'died_country_code', 'city_of_university', 'born_month', 'age')\n",
    "nobel = nobel.drop(*cols)"
   ]
  },
  {
   "cell_type": "code",
   "execution_count": 18,
   "metadata": {},
   "outputs": [],
   "source": [
    "#renamning columns\n",
    "newColNames = ['fName', 'sName', 'Gender', 'Year', 'Category', 'Share', 'University', 'Country_of_Uni', 'Age_get_Prize']\n",
    "nobel = nobel.toDF(*newColNames) #toDf only works for flat dataframes"
   ]
  },
  {
   "cell_type": "code",
   "execution_count": 19,
   "metadata": {},
   "outputs": [
    {
     "name": "stdout",
     "output_type": "stream",
     "text": [
      "root\n",
      " |-- Name: string (nullable = false)\n",
      " |-- Gender: string (nullable = true)\n",
      " |-- Year: integer (nullable = true)\n",
      " |-- Category: string (nullable = true)\n",
      " |-- Share: integer (nullable = true)\n",
      " |-- University: string (nullable = true)\n",
      " |-- Country_of_Uni: string (nullable = true)\n",
      " |-- Age_get_Prize: integer (nullable = true)\n",
      "\n"
     ]
    }
   ],
   "source": [
    "#concatenating firstname and surname separated by space\n",
    "nobel = nobel.select(concat_ws(' ','fName', 'sName').alias('Name'), *newColNames[2:])\n",
    "nobel.printSchema()"
   ]
  },
  {
   "cell_type": "code",
   "execution_count": 20,
   "metadata": {},
   "outputs": [
    {
     "name": "stdout",
     "output_type": "stream",
     "text": [
      "693 8\n"
     ]
    }
   ],
   "source": [
    "#dropping rows with null values in any columns\n",
    "nobel = nobel.na.drop('any')\n",
    "print(nobel.count(), len(nobel.columns))"
   ]
  },
  {
   "cell_type": "markdown",
   "metadata": {},
   "source": [
    "## Questions"
   ]
  },
  {
   "cell_type": "code",
   "execution_count": 21,
   "metadata": {},
   "outputs": [
    {
     "name": "stdout",
     "output_type": "stream",
     "text": [
      "+------------------+------+----+--------+-----+--------------------+---------------+-------------+\n",
      "|              Name|Gender|Year|Category|Share|          University| Country_of_Uni|Age_get_Prize|\n",
      "+------------------+------+----+--------+-----+--------------------+---------------+-------------+\n",
      "|Hendrik A. Lorentz|  male|1902| physics|    2|   Leiden University|the Netherlands|           49|\n",
      "|     Pieter Zeeman|  male|1902| physics|    2|Amsterdam University|the Netherlands|           37|\n",
      "|      Pierre Curie|  male|1903| physics|    4|École municipale ...|         France|           44|\n",
      "+------------------+------+----+--------+-----+--------------------+---------------+-------------+\n",
      "only showing top 3 rows\n",
      "\n"
     ]
    }
   ],
   "source": [
    "nobel.filter((nobel.Age_get_Prize > 30) & (nobel.Age_get_Prize < 50)).show(3)"
   ]
  },
  {
   "cell_type": "code",
   "execution_count": 22,
   "metadata": {},
   "outputs": [],
   "source": [
    "nobel = nobel.withColumn('Country_of_Uni', when(nobel.Country_of_Uni == 'the Netherlands', 'Netherlands')\\\n",
    "                         .otherwise(nobel.Country_of_Uni))"
   ]
  },
  {
   "cell_type": "code",
   "execution_count": 23,
   "metadata": {},
   "outputs": [
    {
     "data": {
      "text/plain": [
       "693"
      ]
     },
     "execution_count": 23,
     "metadata": {},
     "output_type": "execute_result"
    }
   ],
   "source": [
    "nobel.count()"
   ]
  },
  {
   "cell_type": "code",
   "execution_count": 24,
   "metadata": {},
   "outputs": [
    {
     "name": "stdout",
     "output_type": "stream",
     "text": [
      "+--------------------+------+----+---------+-----+--------------------+--------------+-------------+\n",
      "|                Name|Gender|Year| Category|Share|          University|Country_of_Uni|Age_get_Prize|\n",
      "+--------------------+------+----+---------+-----+--------------------+--------------+-------------+\n",
      "|Wilhelm Conrad Rö...|  male|1901|  physics|    1|   Munich University|       Germany|           56|\n",
      "|  Hendrik A. Lorentz|  male|1902|  physics|    2|   Leiden University|   Netherlands|           49|\n",
      "|       Pieter Zeeman|  male|1902|  physics|    2|Amsterdam University|   Netherlands|           37|\n",
      "|     Henri Becquerel|  male|1903|  physics|    2| École Polytechnique|        France|           51|\n",
      "|        Pierre Curie|  male|1903|  physics|    4|École municipale ...|        France|           44|\n",
      "|         Marie Curie|female|1911|chemistry|    1| Sorbonne University|        France|           44|\n",
      "|       Lord Rayleigh|  male|1904|  physics|    1|Royal Institution...|United Kingdom|           62|\n",
      "|      Philipp Lenard|  male|1905|  physics|    1|     Kiel University|       Germany|           43|\n",
      "|        J.J. Thomson|  male|1906|  physics|    1|University of Cam...|United Kingdom|           50|\n",
      "| Albert A. Michelson|  male|1907|  physics|    1|University of Chi...|           USA|           55|\n",
      "|    Gabriel Lippmann|  male|1908|  physics|    1| Sorbonne University|        France|           63|\n",
      "|   Guglielmo Marconi|  male|1909|  physics|    2|Marconi Wireless ...|United Kingdom|           35|\n",
      "+--------------------+------+----+---------+-----+--------------------+--------------+-------------+\n",
      "only showing top 12 rows\n",
      "\n"
     ]
    }
   ],
   "source": [
    "nobel.show(12)"
   ]
  },
  {
   "cell_type": "code",
   "execution_count": 36,
   "metadata": {},
   "outputs": [
    {
     "name": "stdout",
     "output_type": "stream",
     "text": [
      "+------------------+----------+\n",
      "|avg(Age_get_Prize)|max(Share)|\n",
      "+------------------+----------+\n",
      "|58.683982683982684|         4|\n",
      "+------------------+----------+\n",
      "\n"
     ]
    }
   ],
   "source": [
    "nobel.agg({'Age_get_Prize': 'avg',\n",
    "           'Share': 'max'}).show()"
   ]
  },
  {
   "cell_type": "code",
   "execution_count": 37,
   "metadata": {},
   "outputs": [],
   "source": [
    "nobel.write.csv('final_nobel.csv')"
   ]
  },
  {
   "cell_type": "code",
   "execution_count": 38,
   "metadata": {},
   "outputs": [],
   "source": [
    "text = spark.read.text('text.txt')"
   ]
  },
  {
   "cell_type": "code",
   "execution_count": 41,
   "metadata": {},
   "outputs": [
    {
     "ename": "AnalysisException",
     "evalue": "[UNRESOLVED_COLUMN.WITH_SUGGESTION] A column or function parameter with name `words` cannot be resolved. Did you mean one of the following? [`word`, `value`].;\n'Aggregate ['words], ['words, count(1) AS count#748L]\n+- Project [value#738, word#741]\n   +- Generate explode(split(value#738,  , -1)), false, [word#741]\n      +- Relation [value#738] text\n",
     "output_type": "error",
     "traceback": [
      "\u001b[0;31m---------------------------------------------------------------------------\u001b[0m",
      "\u001b[0;31mAnalysisException\u001b[0m                         Traceback (most recent call last)",
      "\u001b[0;32m<ipython-input-41-22ddcd3b0202>\u001b[0m in \u001b[0;36m<module>\u001b[0;34m()\u001b[0m\n\u001b[0;32m----> 1\u001b[0;31m \u001b[0mwords\u001b[0m \u001b[0;34m=\u001b[0m \u001b[0mtext\u001b[0m\u001b[0;34m.\u001b[0m\u001b[0mwithColumn\u001b[0m\u001b[0;34m(\u001b[0m\u001b[0;34m'word'\u001b[0m\u001b[0;34m,\u001b[0m \u001b[0mf\u001b[0m\u001b[0;34m.\u001b[0m\u001b[0mexplode\u001b[0m\u001b[0;34m(\u001b[0m\u001b[0mf\u001b[0m\u001b[0;34m.\u001b[0m\u001b[0msplit\u001b[0m\u001b[0;34m(\u001b[0m\u001b[0mf\u001b[0m\u001b[0;34m.\u001b[0m\u001b[0mcol\u001b[0m\u001b[0;34m(\u001b[0m\u001b[0;34m'value'\u001b[0m\u001b[0;34m)\u001b[0m\u001b[0;34m,\u001b[0m \u001b[0;34m' '\u001b[0m\u001b[0;34m)\u001b[0m\u001b[0;34m)\u001b[0m\u001b[0;34m)\u001b[0m        \u001b[0;34m.\u001b[0m\u001b[0mgroupBy\u001b[0m\u001b[0;34m(\u001b[0m\u001b[0;34m'words'\u001b[0m\u001b[0;34m)\u001b[0m\u001b[0;34m.\u001b[0m\u001b[0mcount\u001b[0m\u001b[0;34m(\u001b[0m\u001b[0;34m)\u001b[0m        \u001b[0;34m.\u001b[0m\u001b[0msort\u001b[0m\u001b[0;34m(\u001b[0m\u001b[0;34m'count'\u001b[0m\u001b[0;34m,\u001b[0m \u001b[0mascending\u001b[0m\u001b[0;34m=\u001b[0m\u001b[0;32mFalse\u001b[0m\u001b[0;34m)\u001b[0m\u001b[0;34m.\u001b[0m\u001b[0mshow\u001b[0m\u001b[0;34m(\u001b[0m\u001b[0;34m)\u001b[0m\u001b[0;34m\u001b[0m\u001b[0m\n\u001b[0m",
      "\u001b[0;32m~/anaconda3/lib/python3.7/site-packages/pyspark/sql/group.py\u001b[0m in \u001b[0;36m_api\u001b[0;34m(self)\u001b[0m\n\u001b[1;32m     36\u001b[0m     \u001b[0;32mdef\u001b[0m \u001b[0m_api\u001b[0m\u001b[0;34m(\u001b[0m\u001b[0mself\u001b[0m\u001b[0;34m:\u001b[0m \u001b[0;34m\"GroupedData\"\u001b[0m\u001b[0;34m)\u001b[0m \u001b[0;34m->\u001b[0m \u001b[0mDataFrame\u001b[0m\u001b[0;34m:\u001b[0m\u001b[0;34m\u001b[0m\u001b[0m\n\u001b[1;32m     37\u001b[0m         \u001b[0mname\u001b[0m \u001b[0;34m=\u001b[0m \u001b[0mf\u001b[0m\u001b[0;34m.\u001b[0m\u001b[0m__name__\u001b[0m\u001b[0;34m\u001b[0m\u001b[0m\n\u001b[0;32m---> 38\u001b[0;31m         \u001b[0mjdf\u001b[0m \u001b[0;34m=\u001b[0m \u001b[0mgetattr\u001b[0m\u001b[0;34m(\u001b[0m\u001b[0mself\u001b[0m\u001b[0;34m.\u001b[0m\u001b[0m_jgd\u001b[0m\u001b[0;34m,\u001b[0m \u001b[0mname\u001b[0m\u001b[0;34m)\u001b[0m\u001b[0;34m(\u001b[0m\u001b[0;34m)\u001b[0m\u001b[0;34m\u001b[0m\u001b[0m\n\u001b[0m\u001b[1;32m     39\u001b[0m         \u001b[0;32mreturn\u001b[0m \u001b[0mDataFrame\u001b[0m\u001b[0;34m(\u001b[0m\u001b[0mjdf\u001b[0m\u001b[0;34m,\u001b[0m \u001b[0mself\u001b[0m\u001b[0;34m.\u001b[0m\u001b[0msession\u001b[0m\u001b[0;34m)\u001b[0m\u001b[0;34m\u001b[0m\u001b[0m\n\u001b[1;32m     40\u001b[0m \u001b[0;34m\u001b[0m\u001b[0m\n",
      "\u001b[0;32m~/anaconda3/lib/python3.7/site-packages/py4j/java_gateway.py\u001b[0m in \u001b[0;36m__call__\u001b[0;34m(self, *args)\u001b[0m\n\u001b[1;32m   1321\u001b[0m         \u001b[0manswer\u001b[0m \u001b[0;34m=\u001b[0m \u001b[0mself\u001b[0m\u001b[0;34m.\u001b[0m\u001b[0mgateway_client\u001b[0m\u001b[0;34m.\u001b[0m\u001b[0msend_command\u001b[0m\u001b[0;34m(\u001b[0m\u001b[0mcommand\u001b[0m\u001b[0;34m)\u001b[0m\u001b[0;34m\u001b[0m\u001b[0m\n\u001b[1;32m   1322\u001b[0m         return_value = get_return_value(\n\u001b[0;32m-> 1323\u001b[0;31m             answer, self.gateway_client, self.target_id, self.name)\n\u001b[0m\u001b[1;32m   1324\u001b[0m \u001b[0;34m\u001b[0m\u001b[0m\n\u001b[1;32m   1325\u001b[0m         \u001b[0;32mfor\u001b[0m \u001b[0mtemp_arg\u001b[0m \u001b[0;32min\u001b[0m \u001b[0mtemp_args\u001b[0m\u001b[0;34m:\u001b[0m\u001b[0;34m\u001b[0m\u001b[0m\n",
      "\u001b[0;32m~/anaconda3/lib/python3.7/site-packages/pyspark/errors/exceptions/captured.py\u001b[0m in \u001b[0;36mdeco\u001b[0;34m(*a, **kw)\u001b[0m\n\u001b[1;32m    173\u001b[0m                 \u001b[0;31m# Hide where the exception came from that shows a non-Pythonic\u001b[0m\u001b[0;34m\u001b[0m\u001b[0;34m\u001b[0m\u001b[0m\n\u001b[1;32m    174\u001b[0m                 \u001b[0;31m# JVM exception message.\u001b[0m\u001b[0;34m\u001b[0m\u001b[0;34m\u001b[0m\u001b[0m\n\u001b[0;32m--> 175\u001b[0;31m                 \u001b[0;32mraise\u001b[0m \u001b[0mconverted\u001b[0m \u001b[0;32mfrom\u001b[0m \u001b[0;32mNone\u001b[0m\u001b[0;34m\u001b[0m\u001b[0m\n\u001b[0m\u001b[1;32m    176\u001b[0m             \u001b[0;32melse\u001b[0m\u001b[0;34m:\u001b[0m\u001b[0;34m\u001b[0m\u001b[0m\n\u001b[1;32m    177\u001b[0m                 \u001b[0;32mraise\u001b[0m\u001b[0;34m\u001b[0m\u001b[0m\n",
      "\u001b[0;31mAnalysisException\u001b[0m: [UNRESOLVED_COLUMN.WITH_SUGGESTION] A column or function parameter with name `words` cannot be resolved. Did you mean one of the following? [`word`, `value`].;\n'Aggregate ['words], ['words, count(1) AS count#748L]\n+- Project [value#738, word#741]\n   +- Generate explode(split(value#738,  , -1)), false, [word#741]\n      +- Relation [value#738] text\n"
     ]
    }
   ],
   "source": [
    "words = text.withColumn('word', f.explode(f.split(f.col('value'), ' ')))\\\n",
    "        .groupBy('words').count()\\\n",
    "        .sort('count', ascending=False).show()"
   ]
  },
  {
   "cell_type": "code",
   "execution_count": null,
   "metadata": {},
   "outputs": [],
   "source": []
  }
 ],
 "metadata": {
  "kernelspec": {
   "display_name": "Python 3 (ipykernel)",
   "language": "python",
   "name": "python3"
  },
  "language_info": {
   "codemirror_mode": {
    "name": "ipython",
    "version": 3
   },
   "file_extension": ".py",
   "mimetype": "text/x-python",
   "name": "python",
   "nbconvert_exporter": "python",
   "pygments_lexer": "ipython3",
   "version": "3.7.0"
  }
 },
 "nbformat": 4,
 "nbformat_minor": 2
}
