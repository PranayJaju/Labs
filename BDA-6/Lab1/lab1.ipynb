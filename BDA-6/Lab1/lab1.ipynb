{
 "cells": [
  {
   "cell_type": "code",
   "execution_count": 9,
   "metadata": {},
   "outputs": [],
   "source": [
    "from pyspark.sql import SparkSession\n",
    "from pyspark.sql.functions import pow, max, avg, col"
   ]
  },
  {
   "cell_type": "code",
   "execution_count": 10,
   "metadata": {},
   "outputs": [],
   "source": [
    "spark = SparkSession.builder.appName('Lab1').getOrCreate()"
   ]
  },
  {
   "cell_type": "code",
   "execution_count": 11,
   "metadata": {},
   "outputs": [],
   "source": [
    "df = spark.read.csv('csv.csv', header=True, inferSchema=True)"
   ]
  },
  {
   "cell_type": "code",
   "execution_count": 12,
   "metadata": {},
   "outputs": [
    {
     "name": "stdout",
     "output_type": "stream",
     "text": [
      "+------+----+------+\n",
      "|  Name|CGPA|Height|\n",
      "+------+----+------+\n",
      "|Pranay|8.56|   6.1|\n",
      "|Eshaan|9.22|   6.1|\n",
      "| Rashi|9.94|   5.5|\n",
      "|  Liam|9.49|  5.11|\n",
      "+------+----+------+\n",
      "\n"
     ]
    }
   ],
   "source": [
    "df.show()"
   ]
  },
  {
   "cell_type": "code",
   "execution_count": 13,
   "metadata": {},
   "outputs": [
    {
     "name": "stdout",
     "output_type": "stream",
     "text": [
      "root\n",
      " |-- Name: string (nullable = true)\n",
      " |-- CGPA: double (nullable = true)\n",
      " |-- Height: double (nullable = true)\n",
      "\n"
     ]
    }
   ],
   "source": [
    "df.printSchema()"
   ]
  },
  {
   "cell_type": "code",
   "execution_count": 14,
   "metadata": {},
   "outputs": [
    {
     "name": "stdout",
     "output_type": "stream",
     "text": [
      "+------+----+------+\n",
      "|  Name|CGPA|Height|\n",
      "+------+----+------+\n",
      "|Pranay|8.56|   6.1|\n",
      "|Eshaan|9.22|   6.1|\n",
      "+------+----+------+\n",
      "only showing top 2 rows\n",
      "\n"
     ]
    }
   ],
   "source": [
    "df.show(2)"
   ]
  },
  {
   "cell_type": "code",
   "execution_count": 15,
   "metadata": {},
   "outputs": [
    {
     "name": "stdout",
     "output_type": "stream",
     "text": [
      "+--------+\n",
      "|max_cgpa|\n",
      "+--------+\n",
      "|    9.94|\n",
      "+--------+\n",
      "\n"
     ]
    }
   ],
   "source": [
    "df.select(max(df.CGPA).alias('max_cgpa')).show()"
   ]
  },
  {
   "cell_type": "code",
   "execution_count": 16,
   "metadata": {},
   "outputs": [
    {
     "name": "stdout",
     "output_type": "stream",
     "text": [
      "+----------+\n",
      "|avg_height|\n",
      "+----------+\n",
      "|    5.7025|\n",
      "+----------+\n",
      "\n"
     ]
    }
   ],
   "source": [
    "df.select(avg(df.Height).alias('avg_height')).show()"
   ]
  },
  {
   "cell_type": "code",
   "execution_count": 21,
   "metadata": {},
   "outputs": [
    {
     "name": "stdout",
     "output_type": "stream",
     "text": [
      "+------+----+------+-----------------+\n",
      "|  Name|CGPA|Height|          Sq CGPA|\n",
      "+------+----+------+-----------------+\n",
      "|Pranay|8.56|   6.1|          73.2736|\n",
      "|Eshaan|9.22|   6.1|85.00840000000001|\n",
      "| Rashi|9.94|   5.5|98.80359999999999|\n",
      "|  Liam|9.49|  5.11|          90.0601|\n",
      "+------+----+------+-----------------+\n",
      "\n"
     ]
    }
   ],
   "source": [
    "df.withColumn('Sq CGPA', pow(col('CGPA'), 2)).show()"
   ]
  },
  {
   "cell_type": "code",
   "execution_count": 22,
   "metadata": {},
   "outputs": [
    {
     "name": "stdout",
     "output_type": "stream",
     "text": [
      "+-------+-------------------+\n",
      "|summary|             Height|\n",
      "+-------+-------------------+\n",
      "|  count|                  4|\n",
      "|   mean|             5.7025|\n",
      "| stddev|0.48582404222104897|\n",
      "|    min|               5.11|\n",
      "|    max|                6.1|\n",
      "+-------+-------------------+\n",
      "\n"
     ]
    }
   ],
   "source": [
    "df.select('Height').describe().show()"
   ]
  }
 ],
 "metadata": {
  "kernelspec": {
   "display_name": "Python 3",
   "language": "python",
   "name": "python3"
  },
  "language_info": {
   "codemirror_mode": {
    "name": "ipython",
    "version": 3
   },
   "file_extension": ".py",
   "mimetype": "text/x-python",
   "name": "python",
   "nbconvert_exporter": "python",
   "pygments_lexer": "ipython3",
   "version": "3.7.0"
  }
 },
 "nbformat": 4,
 "nbformat_minor": 2
}
