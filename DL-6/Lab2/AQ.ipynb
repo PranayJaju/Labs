{
 "cells": [
  {
   "cell_type": "code",
   "execution_count": null,
   "id": "00b6a602-9b0f-402e-b596-1b94439d1cab",
   "metadata": {},
   "outputs": [],
   "source": [
    "import torch\n",
    "import numpy as np"
   ]
  },
  {
   "cell_type": "markdown",
   "id": "195390c0-721e-4c10-a42d-ba4ec42f3188",
   "metadata": {},
   "source": [
    "## Q1"
   ]
  },
  {
   "cell_type": "code",
   "execution_count": null,
   "id": "dc40f3c6-0140-4b44-848a-ee571162470d",
   "metadata": {},
   "outputs": [],
   "source": [
    "a = torch.tensor(2.0, requires_grad=True)\n",
    "b = torch.tensor(3.0, requires_grad=True)\n",
    "\n",
    "x = 2*a + 3*b\n",
    "y = 5*a**2 + 3*b**3\n",
    "z = 2*x + 3*y"
   ]
  },
  {
   "cell_type": "code",
   "execution_count": null,
   "id": "65671453-bde5-4905-a3dc-5f292e976bd9",
   "metadata": {},
   "outputs": [],
   "source": [
    "analytical_grad_z_wrt_a = 4 + 30*a\n",
    "z.backward()"
   ]
  },
  {
   "cell_type": "code",
   "execution_count": null,
   "id": "8e8c82ef-bc9e-400b-b17b-b7fc434356ab",
   "metadata": {},
   "outputs": [],
   "source": [
    "print(f'PyTorch: {a.grad}')\n",
    "print(f'Analytical: {analytical_grad_z_wrt_a}')"
   ]
  },
  {
   "cell_type": "markdown",
   "id": "4425b8e2-7160-4050-84a8-8a53aba8a452",
   "metadata": {},
   "source": [
    "## Q2 + Q3"
   ]
  },
  {
   "cell_type": "code",
   "execution_count": null,
   "id": "a4ac4f96-9410-4d56-b69c-0534e064b352",
   "metadata": {},
   "outputs": [],
   "source": [
    "b = torch.tensor(1.0, requires_grad=True)\n",
    "x = torch.tensor(2.0, requires_grad=True)\n",
    "w = torch.tensor(3.0, requires_grad=True)\n",
    "\n",
    "u = x*w\n",
    "v = u + b\n",
    "\n",
    "a = torch.relu(v)\n",
    "s = torch.sigmoid(v)"
   ]
  },
  {
   "cell_type": "code",
   "execution_count": null,
   "id": "2d2027f6-5407-4b57-9850-dd31a578861f",
   "metadata": {},
   "outputs": [],
   "source": [
    "analytical_grad_a_wrt_w = x if v>0 else 0\n",
    "a.backward()"
   ]
  },
  {
   "cell_type": "code",
   "execution_count": null,
   "id": "4388d361-defc-4e2e-84c8-e5492f958a57",
   "metadata": {},
   "outputs": [],
   "source": [
    "print(f'PyTorch: {w.grad}')\n",
    "print(f'Analytical: {analytical_grad_a_wrt_w}')"
   ]
  },
  {
   "cell_type": "code",
   "execution_count": null,
   "id": "7bbd1c0b-8f3f-45ef-b4cc-0ce59e955d32",
   "metadata": {},
   "outputs": [],
   "source": [
    "analytical_grad_s_wrt_w = (1-s)*s*x\n",
    "s.backward()"
   ]
  },
  {
   "cell_type": "code",
   "execution_count": null,
   "id": "a96cb74e-3fe0-4b03-b368-955b31cd2f54",
   "metadata": {},
   "outputs": [],
   "source": [
    "print(f'PyTorch: {w.grad: .2}')\n",
    "print(f'Analytical: {analytical_grad_s_wrt_w: .2}')"
   ]
  },
  {
   "cell_type": "markdown",
   "id": "79c3b58c-a02f-4c23-9ccd-cae8a64e8d25",
   "metadata": {},
   "source": [
    "## Q4"
   ]
  },
  {
   "cell_type": "code",
   "execution_count": null,
   "id": "cdedbb9b-b531-48be-af29-5f9b9e7b70ac",
   "metadata": {},
   "outputs": [],
   "source": [
    "x = torch.tensor(3.14159, requires_grad=True)\n",
    "\n",
    "a = -x**2\n",
    "b = -2*x\n",
    "c = -torch.sin(x)\n",
    "v = a+b+c\n",
    "\n",
    "f = torch.exp(v)"
   ]
  },
  {
   "cell_type": "code",
   "execution_count": null,
   "id": "a3a244e9-4cf1-4d81-a031-4aa7828478c8",
   "metadata": {},
   "outputs": [],
   "source": [
    "analytical_grad_f_wrt_x = (-2*x-2-torch.cos(x))*f\n",
    "f.backward()"
   ]
  },
  {
   "cell_type": "code",
   "execution_count": null,
   "id": "46936bc3-07e6-4d07-b3f0-e8ec04f080c5",
   "metadata": {},
   "outputs": [],
   "source": [
    "print(f'PyTorch: {x.grad: .5}')\n",
    "print(f'Analytical: {analytical_grad_f_wrt_x: .5}')"
   ]
  },
  {
   "cell_type": "markdown",
   "id": "d960045f-9b87-4c2f-9d5e-49de3b19e99c",
   "metadata": {},
   "source": [
    "## Q5"
   ]
  },
  {
   "cell_type": "code",
   "execution_count": null,
   "id": "3a79b0f9-0b40-4394-867d-b2d7b889a3f4",
   "metadata": {},
   "outputs": [],
   "source": [
    "x = torch.tensor(2.0, requires_grad=True)\n",
    "\n",
    "y = 8*x**4 + 3*x**3 + 7*x**2 + 6*x + 3"
   ]
  },
  {
   "cell_type": "code",
   "execution_count": null,
   "id": "79cd0e3e-0cfc-43f4-b930-1500fa8876ab",
   "metadata": {},
   "outputs": [],
   "source": [
    "analytical_grad_y_wrt_x = 32*x**3 + 9*x**2 + 14*x + 6\n",
    "y.backward()"
   ]
  },
  {
   "cell_type": "code",
   "execution_count": null,
   "id": "6c32aaa4-03eb-438b-8b55-de71caa6c4a5",
   "metadata": {},
   "outputs": [],
   "source": [
    "print(f'PyTorch: {x.grad}')\n",
    "print(f'Analytical: {analytical_grad_y_wrt_x}')"
   ]
  },
  {
   "cell_type": "markdown",
   "id": "c5a0053e-fbbe-4501-b79e-68d8212732bf",
   "metadata": {},
   "source": [
    "## Q6"
   ]
  },
  {
   "cell_type": "code",
   "execution_count": null,
   "id": "84e94090-2a96-469a-8e96-a9f3a9a40682",
   "metadata": {},
   "outputs": [],
   "source": [
    "x = torch.tensor(1.0, requires_grad=True)\n",
    "y = torch.tensor(2.0, requires_grad=True)\n",
    "z = torch.tensor(1.0, requires_grad=True)\n",
    "\n",
    "a = 2*x\n",
    "b = torch.sin(y)\n",
    "c = a/b\n",
    "d = c*z\n",
    "e = torch.log(d+1)\n",
    "f = torch.tanh(e)"
   ]
  },
  {
   "cell_type": "code",
   "execution_count": null,
   "id": "498e0ad8-0e30-4d85-979b-331a98020d1b",
   "metadata": {},
   "outputs": [],
   "source": [
    "analytical_grad_f_wrt_y = (1-f**2)*(1/(d+1))*z*(-a/b**2)*torch.cos(y)\n",
    "f.backward()"
   ]
  },
  {
   "cell_type": "code",
   "execution_count": null,
   "id": "9871eda9-dece-46ab-86ac-be3fce70836f",
   "metadata": {},
   "outputs": [],
   "source": [
    "print(f'PyTorch: {y.grad}')\n",
    "print(f'Analytical: {analytical_grad_f_wrt_y}')"
   ]
  }
 ],
 "metadata": {
  "kernelspec": {
   "display_name": "Python 3 (ipykernel)",
   "language": "python",
   "name": "python3"
  },
  "language_info": {
   "codemirror_mode": {
    "name": "ipython",
    "version": 3
   },
   "file_extension": ".py",
   "mimetype": "text/x-python",
   "name": "python",
   "nbconvert_exporter": "python",
   "pygments_lexer": "ipython3",
   "version": "3.11.7"
  }
 },
 "nbformat": 4,
 "nbformat_minor": 5
}
