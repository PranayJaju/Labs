{
 "cells": [
  {
   "cell_type": "code",
   "execution_count": 53,
   "id": "e37a158a-6732-49da-b5f2-aad8f9b239e7",
   "metadata": {},
   "outputs": [],
   "source": [
    "import torch\n",
    "import numpy as np"
   ]
  },
  {
   "cell_type": "code",
   "execution_count": 70,
   "id": "89ca718e-1cea-4daf-96d9-a99f4a966bc6",
   "metadata": {},
   "outputs": [
    {
     "data": {
      "text/plain": [
       "tensor([[ 7,  8],\n",
       "        [ 9, 10],\n",
       "        [11, 12]])"
      ]
     },
     "execution_count": 70,
     "metadata": {},
     "output_type": "execute_result"
    }
   ],
   "source": [
    "t1 = torch.tensor([1,2,3,4,5,6])\n",
    "t2 = torch.tensor([[[1,2,3],[4,5,6],[7,8,9]]])\n",
    "t3 = torch.tensor([[7,8],[9,10],[11,12]])\n",
    "t3"
   ]
  },
  {
   "cell_type": "code",
   "execution_count": 26,
   "id": "3b82f203-20d8-4d9b-9677-5483e60c8118",
   "metadata": {},
   "outputs": [
    {
     "data": {
      "text/plain": [
       "torch.Size([1, 3, 3])"
      ]
     },
     "execution_count": 26,
     "metadata": {},
     "output_type": "execute_result"
    }
   ],
   "source": [
    "t2.shape"
   ]
  },
  {
   "cell_type": "code",
   "execution_count": 27,
   "id": "6ea6125c-da21-4239-b183-68319b129f99",
   "metadata": {},
   "outputs": [
    {
     "data": {
      "text/plain": [
       "torch.Size([3, 3])"
      ]
     },
     "execution_count": 27,
     "metadata": {},
     "output_type": "execute_result"
    }
   ],
   "source": [
    "t2 = torch.reshape(t2, (3,3))\n",
    "t2.shape"
   ]
  },
  {
   "cell_type": "code",
   "execution_count": 28,
   "id": "e7874cdb-ace5-4227-ad1d-95e49a26829d",
   "metadata": {},
   "outputs": [
    {
     "data": {
      "text/plain": [
       "tensor([[1, 2],\n",
       "        [3, 4],\n",
       "        [5, 6]])"
      ]
     },
     "execution_count": 28,
     "metadata": {},
     "output_type": "execute_result"
    }
   ],
   "source": [
    "t1 = t1.view((3,2))\n",
    "t1"
   ]
  },
  {
   "cell_type": "code",
   "execution_count": 32,
   "id": "b3a447fc-5eb2-4d37-a52c-1312022f2eb8",
   "metadata": {},
   "outputs": [
    {
     "data": {
      "text/plain": [
       "tensor([[[ 1,  2],\n",
       "         [ 3,  4],\n",
       "         [ 5,  6]],\n",
       "\n",
       "        [[ 7,  8],\n",
       "         [ 9, 10],\n",
       "         [11, 12]]])"
      ]
     },
     "execution_count": 32,
     "metadata": {},
     "output_type": "execute_result"
    }
   ],
   "source": [
    "stack_0 = torch.stack((t1,t3))\n",
    "stack_0"
   ]
  },
  {
   "cell_type": "code",
   "execution_count": 33,
   "id": "8d4692f1-ec05-4a8a-8b6e-a9b654bfc92c",
   "metadata": {},
   "outputs": [
    {
     "data": {
      "text/plain": [
       "tensor([[[ 1,  2],\n",
       "         [ 7,  8]],\n",
       "\n",
       "        [[ 3,  4],\n",
       "         [ 9, 10]],\n",
       "\n",
       "        [[ 5,  6],\n",
       "         [11, 12]]])"
      ]
     },
     "execution_count": 33,
     "metadata": {},
     "output_type": "execute_result"
    }
   ],
   "source": [
    "stack_1 = torch.stack((t1,t3), dim=1)\n",
    "stack_1"
   ]
  },
  {
   "cell_type": "code",
   "execution_count": 37,
   "id": "f9bf78e6-2d3d-4bbc-b5d4-3ce0e2822ac5",
   "metadata": {},
   "outputs": [
    {
     "data": {
      "text/plain": [
       "tensor([[[ 1,  2],\n",
       "         [ 3,  4],\n",
       "         [ 5,  6],\n",
       "         [ 7,  8],\n",
       "         [ 9, 10],\n",
       "         [11, 12]]])"
      ]
     },
     "execution_count": 37,
     "metadata": {},
     "output_type": "execute_result"
    }
   ],
   "source": [
    "stack_0 = stack_0.view((1,6,2))\n",
    "stack_0"
   ]
  },
  {
   "cell_type": "code",
   "execution_count": 39,
   "id": "fb550fbf-9cf5-4fea-87bb-58058ac02299",
   "metadata": {},
   "outputs": [
    {
     "data": {
      "text/plain": [
       "torch.Size([6, 2])"
      ]
     },
     "execution_count": 39,
     "metadata": {},
     "output_type": "execute_result"
    }
   ],
   "source": [
    "stack_0 = torch.squeeze(stack_0)\n",
    "stack_0.shape"
   ]
  },
  {
   "cell_type": "code",
   "execution_count": 42,
   "id": "aff3d6bb-cfc0-49b2-8086-40a46092570d",
   "metadata": {},
   "outputs": [
    {
     "data": {
      "text/plain": [
       "torch.Size([1, 3, 2])"
      ]
     },
     "execution_count": 42,
     "metadata": {},
     "output_type": "execute_result"
    }
   ],
   "source": [
    "unsq = torch.unsqueeze(t1, 0)\n",
    "unsq.shape"
   ]
  },
  {
   "cell_type": "code",
   "execution_count": 50,
   "id": "55909d6f-9db5-4bc1-a01b-253f3aa4eeb1",
   "metadata": {},
   "outputs": [
    {
     "name": "stdout",
     "output_type": "stream",
     "text": [
      "torch.Size([3, 2, 2])\n",
      "torch.Size([2, 3, 2])\n"
     ]
    }
   ],
   "source": [
    "print(stack_1.shape)\n",
    "print(torch.permute(stack_1, (2,0,1)).size())"
   ]
  },
  {
   "cell_type": "code",
   "execution_count": 52,
   "id": "690a0f45-5a92-42f0-a9f7-8ea4518dc486",
   "metadata": {},
   "outputs": [
    {
     "name": "stdout",
     "output_type": "stream",
     "text": [
      "tensor(8) tensor(3)\n"
     ]
    }
   ],
   "source": [
    "print(stack_0[3][1], stack_0[1][0])"
   ]
  },
  {
   "cell_type": "code",
   "execution_count": 57,
   "id": "a0954502-883c-478a-9ebf-3c21c2de2468",
   "metadata": {},
   "outputs": [
    {
     "name": "stdout",
     "output_type": "stream",
     "text": [
      "tensor([1, 1, 2, 3, 5, 8])\n",
      "[1 1 2 3 5 8]\n"
     ]
    }
   ],
   "source": [
    "a = np.array([1,1,2,3,5,8])\n",
    "ten_np = torch.from_numpy(a)\n",
    "print(ten_np)\n",
    "b = ten_np.numpy()\n",
    "print(b)"
   ]
  },
  {
   "cell_type": "code",
   "execution_count": 59,
   "id": "9e275354-ac69-41fc-bed2-0b9b19969e6f",
   "metadata": {},
   "outputs": [],
   "source": [
    "rand = torch.rand((7,7))"
   ]
  },
  {
   "cell_type": "code",
   "execution_count": 61,
   "id": "e407c9a4-a24d-4f14-ad57-95505a9fe3da",
   "metadata": {},
   "outputs": [
    {
     "data": {
      "text/plain": [
       "torch.Size([1, 7])"
      ]
     },
     "execution_count": 61,
     "metadata": {},
     "output_type": "execute_result"
    }
   ],
   "source": [
    "rand_1 = torch.rand((1,7))\n",
    "mul = torch.matmul(rand_1, rand)\n",
    "mul.shape"
   ]
  },
  {
   "cell_type": "code",
   "execution_count": 63,
   "id": "817b3c15-f669-476e-9c0a-bc8906bd22d3",
   "metadata": {},
   "outputs": [
    {
     "data": {
      "text/plain": [
       "False"
      ]
     },
     "execution_count": 63,
     "metadata": {},
     "output_type": "execute_result"
    }
   ],
   "source": [
    "torch.cuda.is_available()"
   ]
  },
  {
   "cell_type": "code",
   "execution_count": 64,
   "id": "6184ac9e-1ebf-40c0-9640-d1bdfbd72f85",
   "metadata": {},
   "outputs": [],
   "source": [
    "t1 = torch.rand((2,3))\n",
    "t2 = torch.rand((2,3))"
   ]
  },
  {
   "cell_type": "code",
   "execution_count": 65,
   "id": "be33123e-463d-4829-8a1b-4f83f5df7d06",
   "metadata": {},
   "outputs": [
    {
     "data": {
      "text/plain": [
       "torch.Size([2, 2])"
      ]
     },
     "execution_count": 65,
     "metadata": {},
     "output_type": "execute_result"
    }
   ],
   "source": [
    "t8 = torch.matmul(t1, t2.reshape((3,2)))\n",
    "t8.shape"
   ]
  },
  {
   "cell_type": "code",
   "execution_count": 67,
   "id": "a38a59d6-bc99-47a6-a92c-4990a4932b03",
   "metadata": {},
   "outputs": [
    {
     "name": "stdout",
     "output_type": "stream",
     "text": [
      "tensor(0.8204)\n",
      "tensor(0.4741)\n"
     ]
    }
   ],
   "source": [
    "print(torch.max(t1))\n",
    "print(torch.min(t2))"
   ]
  },
  {
   "cell_type": "code",
   "execution_count": 68,
   "id": "f6e9945e-3148-440a-b951-792b4b04ea9d",
   "metadata": {},
   "outputs": [
    {
     "name": "stdout",
     "output_type": "stream",
     "text": [
      "tensor(0)\n",
      "tensor(3)\n"
     ]
    }
   ],
   "source": [
    "print(torch.argmax(t1))\n",
    "print(torch.argmin(t2))"
   ]
  },
  {
   "cell_type": "code",
   "execution_count": 69,
   "id": "5a9fda3d-9b88-4a48-bcf5-5d322ad0d1ac",
   "metadata": {},
   "outputs": [
    {
     "data": {
      "text/plain": [
       "<torch._C.Generator at 0x7f41909ae710>"
      ]
     },
     "execution_count": 69,
     "metadata": {},
     "output_type": "execute_result"
    }
   ],
   "source": [
    "torch.manual_seed(7)"
   ]
  },
  {
   "cell_type": "code",
   "execution_count": 73,
   "id": "361cc86e-7603-4d9d-bfc2-23c1d6faf8f9",
   "metadata": {},
   "outputs": [
    {
     "name": "stdout",
     "output_type": "stream",
     "text": [
      "tensor([[[[0.8829, 0.4132, 0.7572, 0.6948, 0.5209, 0.5932, 0.8797, 0.6286,\n",
      "           0.7653, 0.1132]]]])\n",
      "tensor([[[0.8829, 0.4132, 0.7572, 0.6948, 0.5209, 0.5932, 0.8797, 0.6286,\n",
      "          0.7653, 0.1132]]])\n"
     ]
    }
   ],
   "source": [
    "t10 = torch.rand((1,1,1,10))\n",
    "print(t10)\n",
    "print(t10[0])"
   ]
  },
  {
   "cell_type": "code",
   "execution_count": null,
   "id": "d30e6164-7c7d-4f75-b667-3b1e3d88c4f6",
   "metadata": {},
   "outputs": [],
   "source": []
  }
 ],
 "metadata": {
  "kernelspec": {
   "display_name": "Python 3 (ipykernel)",
   "language": "python",
   "name": "python3"
  },
  "language_info": {
   "codemirror_mode": {
    "name": "ipython",
    "version": 3
   },
   "file_extension": ".py",
   "mimetype": "text/x-python",
   "name": "python",
   "nbconvert_exporter": "python",
   "pygments_lexer": "ipython3",
   "version": "3.10.12"
  }
 },
 "nbformat": 4,
 "nbformat_minor": 5
}
